{
 "cells": [
  {
   "cell_type": "code",
   "execution_count": 1,
   "id": "82350c07",
   "metadata": {},
   "outputs": [],
   "source": [
    "#importando blibliotecas\n",
    "import requests\n"
   ]
  },
  {
   "cell_type": "code",
   "execution_count": 2,
   "id": "9dd62ab4",
   "metadata": {},
   "outputs": [],
   "source": [
    "#Meses a serem baixados\n",
    "mes =['Janeiro','Fevereiro','Março','Abril','Maio','Junho','Julho','Agosto','Setembro','Outubro','Novembro','Dezembro']"
   ]
  },
  {
   "cell_type": "code",
   "execution_count": 3,
   "id": "aaf8f3f9",
   "metadata": {},
   "outputs": [],
   "source": [
    "# Anos a serem baixados\n",
    "ano = ['2013','2014','2015','2016','2017','2018','2019','2020','2021']"
   ]
  },
  {
   "cell_type": "code",
   "execution_count": 4,
   "id": "5c2c0a48",
   "metadata": {},
   "outputs": [],
   "source": [
    "#Itera por mês e ano. Completa a url com esses dados e salva o arquivo\n",
    "for m in mes:\n",
    "    for a in ano:\n",
    "        try:\n",
    "            url = \"http://www.transparencia.sp.gov.br/PortalTransparencia-Report/historico/remuneracao_{}_{}.rar\".format(m,a)\n",
    "            response = requests.get(url)\n",
    "            if response.status_code == 404:\n",
    "                continue\n",
    "            else:\n",
    "                open(\"rar/{}_{}.rar\".format(m,a), \"wb\").write(response.content)\n",
    "        except:\n",
    "            continue"
   ]
  }
 ],
 "metadata": {
  "kernelspec": {
   "display_name": "Python 3 (ipykernel)",
   "language": "python",
   "name": "python3"
  },
  "language_info": {
   "codemirror_mode": {
    "name": "ipython",
    "version": 3
   },
   "file_extension": ".py",
   "mimetype": "text/x-python",
   "name": "python",
   "nbconvert_exporter": "python",
   "pygments_lexer": "ipython3",
   "version": "3.9.7"
  }
 },
 "nbformat": 4,
 "nbformat_minor": 5
}
